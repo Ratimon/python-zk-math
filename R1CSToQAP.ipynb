{
 "cells": [
  {
   "cell_type": "markdown",
   "metadata": {},
   "source": [
    "## Convert the R1CS into a QAP\n"
   ]
  },
  {
   "cell_type": "code",
   "execution_count": 11,
   "metadata": {},
   "outputs": [
    {
     "name": "stdout",
     "output_type": "stream",
     "text": [
      "witness [         1 1500761992        959        543    2759043 1498160349]\n"
     ]
    }
   ],
   "source": [
    "import numpy as np\n",
    "import random\n",
    "\n",
    "# Define the matrices\n",
    "A = np.array([[0,0,3,0,0,0],\n",
    "               [0,0,0,0,1,0],\n",
    "               [0,0,1,0,0,0]])\n",
    "\n",
    "B = np.array([[0,0,1,0,0,0],\n",
    "               [0,0,0,1,0,0],\n",
    "               [0,0,0,5,0,0]])\n",
    "\n",
    "C = np.array([[0,0,0,0,1,0],\n",
    "               [0,0,0,0,0,1],\n",
    "               [-3,1,1,2,0,-1]])\n",
    "\n",
    "# pick random values for x and y\n",
    "x = random.randint(1,1000)\n",
    "y = random.randint(1,1000)\n",
    "\n",
    "# this is our orignal formula\n",
    "out = 3 * x * x * y + 5 * x * y - x- 2*y + 3# the witness vector with the intermediate variables inside\n",
    "v1 = 3*x*x\n",
    "v2 = v1 * y\n",
    "w = np.array([1, out, x, y, v1, v2])\n",
    "\n",
    "print(\"witness {}\".format(w))\n",
    "\n",
    "result = C.dot(w) == np.multiply(A.dot(w),B.dot(w))\n",
    "assert result.all(), \"result contains an inequality\""
   ]
  },
  {
   "cell_type": "markdown",
   "metadata": {},
   "source": []
  },
  {
   "cell_type": "markdown",
   "metadata": {},
   "source": [
    "### Calculating Matrix Ua"
   ]
  },
  {
   "cell_type": "code",
   "execution_count": 19,
   "metadata": {},
   "outputs": [
    {
     "name": "stdout",
     "output_type": "stream",
     "text": [
      "   2\n",
      "2 x - 9 x + 10\n",
      "    2\n",
      "-1 x + 4 x - 3\n",
      "Ua [-1439361  5756751  4329171]\n"
     ]
    }
   ],
   "source": [
    "from scipy.interpolate import lagrange\n",
    "\n",
    "# A = np.array([[0,0,3,0,0,0],\n",
    "#                [0,0,0,0,1,0],\n",
    "#                [0,0,1,0,0,0]])\n",
    "\n",
    "x = np.array([1,2,3])\n",
    "y_l3 = np.array([3,0,1])\n",
    "y_l5 = np.array([0,1,0])\n",
    "\n",
    "poly_l3 = lagrange(x, y_l3)\n",
    "poly_l5 = lagrange(x, y_l5)\n",
    "\n",
    "\n",
    "print(poly_l3)\n",
    "print(poly_l5)\n",
    "\n",
    "U = np.array([[0,0,2,0,-1,0],\n",
    "               [0,0,-9,0,4,0],\n",
    "               [0,0,10,0,3,0]])\n",
    "\n",
    "Ua = np.matmul(U, w)\n",
    "\n",
    "print(\"Ua {}\".format(Ua))\n",
    "\n",
    "\n"
   ]
  },
  {
   "cell_type": "markdown",
   "metadata": {},
   "source": [
    "### Calculating Matrix Va"
   ]
  },
  {
   "cell_type": "code",
   "execution_count": 22,
   "metadata": {},
   "outputs": [
    {
     "name": "stdout",
     "output_type": "stream",
     "text": [
      "     2\n",
      "0.5 x - 2.5 x + 3\n",
      "     2\n",
      "1.5 x - 3.5 x + 2\n",
      "Va [  910.5 -3048.5  2831. ]\n"
     ]
    }
   ],
   "source": [
    "# B = np.array([[0,0,1,0,0,0],\n",
    "#                [0,0,0,1,0,0],\n",
    "#                [0,0,0,5,0,0]])\n",
    "\n",
    "x = np.array([1,2,3])\n",
    "y_r3 = np.array([1,0,0])\n",
    "y_r4 = np.array([0,1,5])\n",
    "\n",
    "poly_r3 = lagrange(x, y_r3)\n",
    "poly_r4 = lagrange(x, y_r4)\n",
    "\n",
    "\n",
    "print(poly_r3)\n",
    "print(poly_r4)\n",
    "\n",
    "V = np.array([[0,0,0.5,1.5,0,0],\n",
    "               [0,0,-2.5,-3.5,0,0],\n",
    "               [0,0,3,2,0,0]])\n",
    "\n",
    "Va = np.matmul(V, w)\n",
    "\n",
    "print(\"Va {}\".format(Va))\n"
   ]
  },
  {
   "cell_type": "markdown",
   "metadata": {},
   "source": [
    "### Calculating Matrix Wa"
   ]
  },
  {
   "cell_type": "code",
   "execution_count": 25,
   "metadata": {},
   "outputs": [
    {
     "name": "stdout",
     "output_type": "stream",
     "text": [
      "      2\n",
      "-1.5 x + 4.5 x - 3\n",
      "     2\n",
      "0.5 x - 1.5 x + 1\n",
      "     2\n",
      "0.5 x - 1.5 x + 1\n",
      "   2\n",
      "1 x - 3 x + 2\n",
      "     2\n",
      "0.5 x - 2.5 x + 3\n",
      "      2\n",
      "-1.5 x + 5.5 x - 4\n",
      "Wa [-5.40349078e+08  2.16132736e+09 -1.61953754e+09]\n"
     ]
    }
   ],
   "source": [
    "# C = np.array([[0,0,0,0,1,0],\n",
    "#                [0,0,0,0,0,1],\n",
    "#                [-3,1,1,2,0,-1]])\n",
    "\n",
    "x = np.array([1,2,3])\n",
    "y_o1 = np.array([0,0,-3])\n",
    "y_o2 = np.array([0,0,1])\n",
    "y_o3 = np.array([0,0,1])\n",
    "y_o4 = np.array([0,0,2])\n",
    "y_o5 = np.array([1,0,0])\n",
    "y_o6 = np.array([0,1,-1])\n",
    "\n",
    "poly_o1 = lagrange(x, y_o1)\n",
    "poly_o2 = lagrange(x, y_o2)\n",
    "poly_o3 = lagrange(x, y_o3)\n",
    "poly_o4 = lagrange(x, y_o4)\n",
    "poly_o5 = lagrange(x, y_o5)\n",
    "poly_o6 = lagrange(x, y_o6)\n",
    "\n",
    "print(poly_o1)\n",
    "print(poly_o2)\n",
    "print(poly_o3)\n",
    "print(poly_o4)\n",
    "print(poly_o5)\n",
    "print(poly_o6)\n",
    "\n",
    "W = np.array([[-1.5,0.5,0.5,1,0.5,-1.5],\n",
    "               [4.5,-1.5,-1.5,-3,-2.5,5.5],\n",
    "               [-3,1,1,2,3,-4]])\n",
    "Wa = np.matmul(W, w)\n",
    "\n",
    "print(\"Wa {}\".format(Wa))"
   ]
  },
  {
   "cell_type": "markdown",
   "metadata": {},
   "source": [
    "### Calculating h(x) t(x)"
   ]
  },
  {
   "cell_type": "code",
   "execution_count": 26,
   "metadata": {},
   "outputs": [
    {
     "data": {
      "text/plain": [
       "(poly1d([-1.31053819e+09,  1.76618465e+09]),\n",
       " poly1d([ 7.87080086e+09, -2.63527034e+10,  2.44725285e+10]))"
      ]
     },
     "execution_count": 26,
     "metadata": {},
     "output_type": "execute_result"
    }
   ],
   "source": [
    "from numpy import poly1d\n",
    "\n",
    "a = poly1d(Ua)\n",
    "b = poly1d(Va)\n",
    "c = poly1d(Wa)\n",
    "t = poly1d([1, -1])*poly1d([1, -2])*poly1d([1, -3])\n",
    "\n",
    "(a * b - c) / t\n"
   ]
  },
  {
   "cell_type": "markdown",
   "metadata": {},
   "source": []
  },
  {
   "cell_type": "code",
   "execution_count": 12,
   "metadata": {},
   "outputs": [
    {
     "name": "stdout",
     "output_type": "stream",
     "text": [
      "interporated A: \n",
      " [array([0.]) array([0.]) array([10., -9.,  2.]) array([0.])\n",
      " array([-3.,  4., -1.]) array([0.])]\n",
      "interporated B: \n",
      " [array([0.]) array([0.]) array([ 3. , -2.5,  0.5])\n",
      " array([ 2. , -3.5,  1.5]) array([0.]) array([0.])]\n",
      "interporated C: \n",
      " [[-3.0 4.5 -1.5]\n",
      " [1.0 -1.5 0.5]\n",
      " [1.0 -1.5 0.5]\n",
      " [2.0 -3.0 1.0]\n",
      " [3.0 -2.5 0.5]\n",
      " [-4.0 5.5 -1.5]]\n",
      "L: [-8267539. 11027541. -2757125.]\n",
      "R: [ 3963. -4298.  1294.]\n",
      "O: [-4483600233.0 5981838261.0 -1495478985.0]\n",
      "T:\n",
      " [-28280656824.0 73254189344.0 -67525574074.0 26119761304.0 -3567719750.0]\n",
      "(array([4713442804.0, -3567719750.0], dtype=object), array([0.0], dtype=object))\n"
     ]
    }
   ],
   "source": [
    "from scipy.interpolate import lagrange\n",
    "import numpy as np\n",
    "from numpy.polynomial import polynomial as P\n",
    "\n",
    "np.set_printoptions(precision=2)\n",
    "\n",
    "\n",
    "def poly_interpolate(index, matrics):\n",
    "    res = []\n",
    "    for row in matrics:\n",
    "        poly = lagrange(index, row).coef[::-1]\n",
    "        res.append(poly)\n",
    "    return np.array(res, dtype=object)\n",
    "\n",
    "\n",
    "def polymuln(lst):\n",
    "    if len(lst) == 0:\n",
    "        return 1\n",
    "    return P.polymul(lst[0], polymuln(lst[1:]))\n",
    "\n",
    "\n",
    "def QAP(s, A, B, C):\n",
    "    L = np.matmul(s, A)\n",
    "    R = np.matmul(s, B)\n",
    "    O = np.matmul(s, C)\n",
    "    print(f\"L: {L}\")\n",
    "    print(f\"R: {R}\")\n",
    "    print(f\"O: {O}\")\n",
    "    Q = P.polysub(P.polymul(L, R), O)\n",
    "    print(f\"T:\\n {Q}\")\n",
    "    assert len(L) == len(R) == len(O)\n",
    "    return P.polydiv(Q, Z(len(L)))\n",
    "\n",
    "\n",
    "def Z(n):\n",
    "    ns = [[-(1 + i), 1] for i, _ in enumerate(range(n))]\n",
    "    return polymuln(ns)\n",
    "\n",
    "\n",
    "def main(s, A, B, C):\n",
    "    x = np.arange(1, len(A) + 1)\n",
    "\n",
    "    resA = poly_interpolate(x, np.transpose(A))\n",
    "    resB = poly_interpolate(x, np.transpose(B))\n",
    "    resC = poly_interpolate(x, np.transpose(C))\n",
    "\n",
    "    print(f\"interporated A: \\n {resA}\")\n",
    "    print(f\"interporated B: \\n {resB}\")\n",
    "    print(f\"interporated C: \\n {resC}\")\n",
    "\n",
    "    return QAP(s, resA, resB, resC)\n",
    "\n",
    "\n",
    "\n",
    "\n",
    "print(main(w, A, B, C))"
   ]
  },
  {
   "cell_type": "code",
   "execution_count": null,
   "metadata": {},
   "outputs": [],
   "source": []
  }
 ],
 "metadata": {
  "kernelspec": {
   "display_name": "Python 3",
   "language": "python",
   "name": "python3"
  },
  "language_info": {
   "codemirror_mode": {
    "name": "ipython",
    "version": 3
   },
   "file_extension": ".py",
   "mimetype": "text/x-python",
   "name": "python",
   "nbconvert_exporter": "python",
   "pygments_lexer": "ipython3",
   "version": "3.10.4"
  }
 },
 "nbformat": 4,
 "nbformat_minor": 2
}
