{
 "cells": [
  {
   "cell_type": "markdown",
   "metadata": {},
   "source": [
    "## Convert the R1CS into a QAP\n"
   ]
  },
  {
   "cell_type": "code",
   "execution_count": 15,
   "metadata": {},
   "outputs": [
    {
     "name": "stdout",
     "output_type": "stream",
     "text": [
      "witness [        1 543022270       693       376   1440747 541720872]\n"
     ]
    }
   ],
   "source": [
    "import numpy as np\n",
    "import random\n",
    "\n",
    "# Define the matrices\n",
    "A = np.array([[0,0,3,0,0,0],\n",
    "               [0,0,0,0,1,0],\n",
    "               [0,0,1,0,0,0]])\n",
    "\n",
    "B = np.array([[0,0,1,0,0,0],\n",
    "               [0,0,0,1,0,0],\n",
    "               [0,0,0,5,0,0]])\n",
    "\n",
    "C = np.array([[0,0,0,0,1,0],\n",
    "               [0,0,0,0,0,1],\n",
    "               [-3,1,1,2,0,-1]])\n",
    "\n",
    "# pick random values for x and y\n",
    "x = random.randint(1,1000)\n",
    "y = random.randint(1,1000)\n",
    "\n",
    "# this is our orignal formula\n",
    "out = 3 * x * x * y + 5 * x * y - x- 2*y + 3# the witness vector with the intermediate variables inside\n",
    "v1 = 3*x*x\n",
    "v2 = v1 * y\n",
    "w = np.array([1, out, x, y, v1, v2])\n",
    "\n",
    "print(\"witness {}\".format(w))\n",
    "\n",
    "result = C.dot(w) == np.multiply(A.dot(w),B.dot(w))\n",
    "assert result.all(), \"result contains an inequality\""
   ]
  },
  {
   "cell_type": "markdown",
   "metadata": {},
   "source": []
  },
  {
   "cell_type": "markdown",
   "metadata": {},
   "source": [
    "### Calculating Matrix Ua"
   ]
  },
  {
   "cell_type": "code",
   "execution_count": 19,
   "metadata": {},
   "outputs": [
    {
     "name": "stdout",
     "output_type": "stream",
     "text": [
      "   2\n",
      "2 x - 9 x + 10\n",
      "    2\n",
      "-1 x + 4 x - 3\n",
      "Ua [-1439361  5756751  4329171]\n"
     ]
    }
   ],
   "source": [
    "from scipy.interpolate import lagrange\n",
    "\n",
    "# A = np.array([[0,0,3,0,0,0],\n",
    "#                [0,0,0,0,1,0],\n",
    "#                [0,0,1,0,0,0]])\n",
    "\n",
    "x = np.array([1,2,3])\n",
    "y_l3 = np.array([3,0,1])\n",
    "y_l5 = np.array([0,1,0])\n",
    "\n",
    "poly_l3 = lagrange(x, y_l3)\n",
    "poly_l5 = lagrange(x, y_l5)\n",
    "\n",
    "\n",
    "print(poly_l3)\n",
    "print(poly_l5)\n",
    "\n",
    "U = np.array([[0,0,2,0,-1,0],\n",
    "               [0,0,-9,0,4,0],\n",
    "               [0,0,10,0,3,0]])\n",
    "\n",
    "Ua = np.matmul(U, w)\n",
    "\n",
    "print(\"Ua {}\".format(Ua))\n",
    "\n",
    "\n"
   ]
  },
  {
   "cell_type": "markdown",
   "metadata": {},
   "source": [
    "### Calculating Matrix Va"
   ]
  },
  {
   "cell_type": "code",
   "execution_count": 22,
   "metadata": {},
   "outputs": [
    {
     "name": "stdout",
     "output_type": "stream",
     "text": [
      "     2\n",
      "0.5 x - 2.5 x + 3\n",
      "     2\n",
      "1.5 x - 3.5 x + 2\n",
      "Va [  910.5 -3048.5  2831. ]\n"
     ]
    }
   ],
   "source": [
    "# B = np.array([[0,0,1,0,0,0],\n",
    "#                [0,0,0,1,0,0],\n",
    "#                [0,0,0,5,0,0]])\n",
    "\n",
    "x = np.array([1,2,3])\n",
    "y_r3 = np.array([1,0,0])\n",
    "y_r4 = np.array([0,1,5])\n",
    "\n",
    "poly_r3 = lagrange(x, y_r3)\n",
    "poly_r4 = lagrange(x, y_r4)\n",
    "\n",
    "\n",
    "print(poly_r3)\n",
    "print(poly_r4)\n",
    "\n",
    "V = np.array([[0,0,0.5,1.5,0,0],\n",
    "               [0,0,-2.5,-3.5,0,0],\n",
    "               [0,0,3,2,0,0]])\n",
    "\n",
    "Va = np.matmul(V, w)\n",
    "\n",
    "print(\"Va {}\".format(Va))\n"
   ]
  },
  {
   "cell_type": "markdown",
   "metadata": {},
   "source": [
    "### Calculating Matrix Wa"
   ]
  },
  {
   "cell_type": "code",
   "execution_count": 25,
   "metadata": {},
   "outputs": [
    {
     "name": "stdout",
     "output_type": "stream",
     "text": [
      "      2\n",
      "-1.5 x + 4.5 x - 3\n",
      "     2\n",
      "0.5 x - 1.5 x + 1\n",
      "     2\n",
      "0.5 x - 1.5 x + 1\n",
      "   2\n",
      "1 x - 3 x + 2\n",
      "     2\n",
      "0.5 x - 2.5 x + 3\n",
      "      2\n",
      "-1.5 x + 5.5 x - 4\n",
      "Wa [-5.40349078e+08  2.16132736e+09 -1.61953754e+09]\n"
     ]
    }
   ],
   "source": [
    "# C = np.array([[0,0,0,0,1,0],\n",
    "#                [0,0,0,0,0,1],\n",
    "#                [-3,1,1,2,0,-1]])\n",
    "\n",
    "x = np.array([1,2,3])\n",
    "y_o1 = np.array([0,0,-3])\n",
    "y_o2 = np.array([0,0,1])\n",
    "y_o3 = np.array([0,0,1])\n",
    "y_o4 = np.array([0,0,2])\n",
    "y_o5 = np.array([1,0,0])\n",
    "y_o6 = np.array([0,1,-1])\n",
    "\n",
    "poly_o1 = lagrange(x, y_o1)\n",
    "poly_o2 = lagrange(x, y_o2)\n",
    "poly_o3 = lagrange(x, y_o3)\n",
    "poly_o4 = lagrange(x, y_o4)\n",
    "poly_o5 = lagrange(x, y_o5)\n",
    "poly_o6 = lagrange(x, y_o6)\n",
    "\n",
    "print(poly_o1)\n",
    "print(poly_o2)\n",
    "print(poly_o3)\n",
    "print(poly_o4)\n",
    "print(poly_o5)\n",
    "print(poly_o6)\n",
    "\n",
    "W = np.array([[-1.5,0.5,0.5,1,0.5,-1.5],\n",
    "               [4.5,-1.5,-1.5,-3,-2.5,5.5],\n",
    "               [-3,1,1,2,3,-4]])\n",
    "Wa = np.matmul(W, w)\n",
    "\n",
    "print(\"Wa {}\".format(Wa))"
   ]
  },
  {
   "cell_type": "markdown",
   "metadata": {},
   "source": [
    "### Calculating h(x) t(x)"
   ]
  },
  {
   "cell_type": "code",
   "execution_count": 26,
   "metadata": {},
   "outputs": [
    {
     "data": {
      "text/plain": [
       "(poly1d([-1.31053819e+09,  1.76618465e+09]),\n",
       " poly1d([ 7.87080086e+09, -2.63527034e+10,  2.44725285e+10]))"
      ]
     },
     "execution_count": 26,
     "metadata": {},
     "output_type": "execute_result"
    }
   ],
   "source": [
    "from numpy import poly1d\n",
    "\n",
    "a = poly1d(Ua)\n",
    "b = poly1d(Va)\n",
    "c = poly1d(Wa)\n",
    "t = poly1d([1, -1])*poly1d([1, -2])*poly1d([1, -3])\n",
    "\n",
    "(a * b - c) / t\n"
   ]
  },
  {
   "cell_type": "markdown",
   "metadata": {},
   "source": []
  }
 ],
 "metadata": {
  "kernelspec": {
   "display_name": "Python 3",
   "language": "python",
   "name": "python3"
  },
  "language_info": {
   "codemirror_mode": {
    "name": "ipython",
    "version": 3
   },
   "file_extension": ".py",
   "mimetype": "text/x-python",
   "name": "python",
   "nbconvert_exporter": "python",
   "pygments_lexer": "ipython3",
   "version": "3.10.4"
  }
 },
 "nbformat": 4,
 "nbformat_minor": 2
}
