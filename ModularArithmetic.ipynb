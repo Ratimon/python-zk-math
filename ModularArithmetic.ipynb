{
 "cells": [
  {
   "cell_type": "markdown",
   "metadata": {},
   "source": [
    "## Modular arithmetic essentials\n",
    "### Benchmarks"
   ]
  },
  {
   "cell_type": "code",
   "execution_count": 1,
   "metadata": {},
   "outputs": [
    {
     "name": "stdout",
     "output_type": "stream",
     "text": [
      "calculating 1590868 took 7.31 seconds\n"
     ]
    }
   ],
   "source": [
    "import time\n",
    "\n",
    "s = time.time()\n",
    "ans = 1002583 ** 939001 % 2003951\n",
    "t = time.time()\n",
    "\n",
    "print(\"calculating {} took {:.2f} seconds\".format(ans,t - s))"
   ]
  },
  {
   "cell_type": "code",
   "execution_count": 2,
   "metadata": {},
   "outputs": [
    {
     "name": "stdout",
     "output_type": "stream",
     "text": [
      "calculating 1590868 operation took 0.00 seconds\n"
     ]
    }
   ],
   "source": [
    "s = time.time()\n",
    "ans = pow(1002583,939001,2003951)\n",
    "t = time.time()\n",
    "\n",
    "print(\"calculating {} operation took {:.2f} seconds\".format( ans, t-s))"
   ]
  },
  {
   "cell_type": "markdown",
   "metadata": {},
   "source": [
    "### Encrypting a number\n",
    "\n",
    "If we start with a generator `g` and raise it to a power `s` mod `n`, then in general we cannot determine `s` even if `g` and `n` are known. This is the discrete logarithm problem.\n",
    "\n",
    "We can say we \"encrypt\" `s` using the scheme\n",
    "\n",
    "$$ E(s) = g^{s} \\pmod n $$\n",
    "\n",
    "But this means we need to choose `g` and `n` carefully. If `g` is 3, `s` is 2, and `n` is a large number, we can intelligently guess what `s` is in this case. We want to pick `g` and `n` such that all members \"wrap around.\" We won't concern ourselves with this here, but you should be aware of it. The other issue is not picking a sufficiently large `n`. "
   ]
  },
  {
   "cell_type": "markdown",
   "metadata": {},
   "source": [
    "### Computing the discrete logarithm\n",
    "If we do `s_p = g^s mod n`, and make `g` and `n` public, then it is infeasible to compute `s`. But this is only true if `n` is sufficiently large.\n",
    "\n",
    "In the following example, we provide `s_p`, `g`, and `n`. Use python to bruteforce the solution to find `s`."
   ]
  },
  {
   "cell_type": "code",
   "execution_count": 3,
   "metadata": {},
   "outputs": [],
   "source": [
    "n = 9551\n",
    "g = 5\n",
    "encrypted_number = 5666"
   ]
  },
  {
   "cell_type": "markdown",
   "metadata": {},
   "source": [
    "How to use python to bruteforce the solution to find `s`"
   ]
  },
  {
   "cell_type": "code",
   "execution_count": 5,
   "metadata": {},
   "outputs": [
    {
     "name": "stdout",
     "output_type": "stream",
     "text": [
      "solution is 2531\n"
     ]
    }
   ],
   "source": [
    "\n",
    "for i in range(1,n):\n",
    "    if pow(g,i,n) == encrypted_number:\n",
    "        solution = i\n",
    "        break\n",
    "print(\"solution is {}\".format(solution))"
   ]
  },
  {
   "cell_type": "code",
   "execution_count": 6,
   "metadata": {},
   "outputs": [
    {
     "name": "stdout",
     "output_type": "stream",
     "text": [
      "solution is 2531\n"
     ]
    }
   ],
   "source": [
    "assert pow(g, solution, n) == encrypted_number\n",
    "print(\"solution is {}\".format(solution))"
   ]
  },
  {
   "cell_type": "markdown",
   "metadata": {},
   "source": [
    "### Computing the discrete logarithm the smart way\n",
    "The smart way to do optimal algorithms is to [copy and paste from stackoverflow](https://stackoverflow.com/a/58665206/2079806). There is no need to understand how the library works\n",
    "\n",
    "<font color='red'>Break the cryptography below and obtain the secret number</font>"
   ]
  },
  {
   "cell_type": "code",
   "execution_count": 7,
   "metadata": {},
   "outputs": [],
   "source": [
    "n = 1000004119\n",
    "g = 5\n",
    "encrypted_number = 767805982"
   ]
  },
  {
   "cell_type": "code",
   "execution_count": 8,
   "metadata": {},
   "outputs": [
    {
     "name": "stdout",
     "output_type": "stream",
     "text": [
      "solution is 420\n"
     ]
    }
   ],
   "source": [
    "\n",
    "from sympy.ntheory import discrete_log\n",
    "\n",
    "for i in range(1,n):\n",
    "    if discrete_log(n,encrypted_number,g) == i:\n",
    "        solution = i\n",
    "        break\n",
    "print(\"solution is {}\".format(solution))"
   ]
  },
  {
   "cell_type": "code",
   "execution_count": 9,
   "metadata": {},
   "outputs": [
    {
     "name": "stdout",
     "output_type": "stream",
     "text": [
      "solution is 420\n"
     ]
    }
   ],
   "source": [
    "assert pow(g, solution, n) == encrypted_number\n",
    "print(\"solution is {}\".format(solution))"
   ]
  },
  {
   "cell_type": "markdown",
   "metadata": {},
   "source": [
    "## Zero Knowledge Addition\n",
    "The following property is very important. It lets us verify the addition of numbers without knowing the numbers.\n",
    "\n",
    "$$ g^{a}g^{b} = g^{a + b} \\pmod n $$\n",
    "\n",
    "Try a few different values of `a` and `b` yourself to see it in action"
   ]
  },
  {
   "cell_type": "code",
   "execution_count": 11,
   "metadata": {},
   "outputs": [
    {
     "name": "stdout",
     "output_type": "stream",
     "text": [
      "False\n"
     ]
    }
   ],
   "source": [
    "n = 1000004119\n",
    "g = 5\n",
    "a = 5 # put your own value\n",
    "b = 555 # put your own value\n",
    "c = a + b\n",
    "\n",
    "print(pow(g, a, n) * pow(g, b, n) == pow(g, a + b, n))"
   ]
  },
  {
   "cell_type": "markdown",
   "metadata": {},
   "source": [
    "Wait what?! That's supposed to be true?\n"
   ]
  },
  {
   "cell_type": "markdown",
   "metadata": {},
   "source": [
    "<font color='red'>The code above has a bug. What is the bug?</font>"
   ]
  },
  {
   "cell_type": "code",
   "execution_count": 12,
   "metadata": {},
   "outputs": [
    {
     "name": "stdout",
     "output_type": "stream",
     "text": [
      "True\n"
     ]
    }
   ],
   "source": [
    "# The multiplication operation (*) happens before the modular reduction (% n)\n",
    "# Your corrected code here\n",
    "n = 1000004119\n",
    "g = 5\n",
    "a = 5  # Put your own value\n",
    "b = 555  # Put your own value\n",
    "c = a + b\n",
    "\n",
    "result = (pow(g, a, n) * pow(g, b, n)) % n\n",
    "\n",
    "print(result == pow(g, c, n))\n"
   ]
  },
  {
   "cell_type": "markdown",
   "metadata": {},
   "source": [
    "## Zero Knowledge Subtraction\n",
    "We can also encrypt the operation a - b. This is the same as \n",
    "\n",
    "$$ g^{a}g^{-b} = g^{a-b} $$\n",
    "\n",
    "But we can't just stick a negative sign in front of the exponent"
   ]
  },
  {
   "cell_type": "code",
   "execution_count": 13,
   "metadata": {},
   "outputs": [
    {
     "data": {
      "text/plain": [
       "1.6619797259514097e-09"
      ]
     },
     "execution_count": 13,
     "metadata": {},
     "output_type": "execute_result"
    }
   ],
   "source": [
    "g = 57\n",
    "n = 101\n",
    "g ** -5 % n"
   ]
  },
  {
   "cell_type": "markdown",
   "metadata": {},
   "source": [
    "The above is not an integer! However, python is smart enough to know what you are doing if you use `pow`. To test this, we expect\n",
    "\n",
    "$$ g^{-a}g^{a} = 1 $$\n",
    "\n",
    "because g^0 is 1, and `a - a = 0`."
   ]
  },
  {
   "cell_type": "code",
   "execution_count": 14,
   "metadata": {},
   "outputs": [
    {
     "data": {
      "text/plain": [
       "True"
      ]
     },
     "execution_count": 14,
     "metadata": {},
     "output_type": "execute_result"
    }
   ],
   "source": [
    "a = 22\n",
    "pow(g, a, n) * pow(g, -a, n) % n == 1"
   ]
  },
  {
   "cell_type": "markdown",
   "metadata": {},
   "source": [
    "So what magic is happening behind the scenes? The formula below is used to compute the modular inverse.\n",
    "\n",
    "$$ a^{-1} = a^{n - 2} \\pmod n $$"
   ]
  },
  {
   "cell_type": "code",
   "execution_count": 15,
   "metadata": {},
   "outputs": [
    {
     "data": {
      "text/plain": [
       "True"
      ]
     },
     "execution_count": 15,
     "metadata": {},
     "output_type": "execute_result"
    }
   ],
   "source": [
    "a_inv = a ** (n - 2) % n\n",
    "a_inv * a % n == 1"
   ]
  },
  {
   "cell_type": "markdown",
   "metadata": {},
   "source": [
    "## Multiplication by a constant\n",
    "Multiplication by a constant is really just (modern zk proof algorithms do not use this technique, this is just for illustration purposes. 4x is really x + x + x + x. In encrypted form, this would be\n",
    "\n",
    "$$ g^{4a} = g^{a} g^{a} g^{a} g^{a} $$\n",
    "\n",
    "This allows us to \"multiply by a constant\" in a zero knowledge fashion."
   ]
  },
  {
   "cell_type": "code",
   "execution_count": 16,
   "metadata": {},
   "outputs": [
    {
     "data": {
      "text/plain": [
       "True"
      ]
     },
     "execution_count": 16,
     "metadata": {},
     "output_type": "execute_result"
    }
   ],
   "source": [
    "a = 15\n",
    "pow(g, a, n) * pow(g, a, n) * pow(g, a, n) * pow(g, a, n) % n == pow(g, a * 4, n)"
   ]
  },
  {
   "cell_type": "markdown",
   "metadata": {},
   "source": [
    "Of course, it would be annoying to multiply like that if you have a big coefficient, so the following is better"
   ]
  },
  {
   "cell_type": "code",
   "execution_count": 17,
   "metadata": {},
   "outputs": [
    {
     "data": {
      "text/plain": [
       "True"
      ]
     },
     "execution_count": 17,
     "metadata": {},
     "output_type": "execute_result"
    }
   ],
   "source": [
    "pow(pow(g, a, n), 4 , n) == pow(g, a * 4, n)"
   ]
  },
  {
   "cell_type": "markdown",
   "metadata": {},
   "source": [
    "## I know the solution to a systems of equations\n",
    "\n",
    "Now you should be able to prove to me that you know the solution to in a zero knowledge fashion\n",
    "\n",
    "$$\n",
    "2x + 8y = 7944\\\\\n",
    "5x + 3y = 4764\n",
    "$$\n",
    "\n",
    "<font color='red'>**Create a zk proof system where you can prove to a verifier (with an agreed upon g and n) that you know the solution to an agreed upon system of equation, without revealing the solution**</font>"
   ]
  },
  {
   "cell_type": "code",
   "execution_count": 18,
   "metadata": {},
   "outputs": [
    {
     "name": "stdout",
     "output_type": "stream",
     "text": [
      "only reveal g^x mod n and g^y mod n \n",
      "g^x mod n is 1030\n",
      "g^y mod n is 769\n"
     ]
    },
    {
     "data": {
      "text/plain": [
       "True"
      ]
     },
     "execution_count": 18,
     "metadata": {},
     "output_type": "execute_result"
    }
   ],
   "source": [
    "# 1. Set up Phase\n",
    "# Agree upon a large prime number n and a generator g for a cyclic group modulo n.\n",
    "# These values are public and shared between the prover and verifier.\n",
    "n = 1613\n",
    "g = 3\n",
    "\n",
    "result1 = 7944\n",
    "result2 = 4764\n",
    "\n",
    "# 2. Prover's Phase:\n",
    "# Known solution (known only to the prover)\n",
    "x = 420\n",
    "y = 888\n",
    "\n",
    "print(\"only reveal g^x mod n and g^y mod n \")\n",
    "# g^x mod n\n",
    "g_x = pow(g, x, n)\n",
    "print(\"g^x mod n is {}\".format(g_x))\n",
    "# g^y mod n\n",
    "g_y = pow(g, y, n)\n",
    "print(\"g^y mod n is {}\".format(g_y))\n",
    "\n",
    "\n",
    "# 2. Verifier's Phase:\n",
    "# # The verifier checks if homomorphism holds by looking only the sum of the encrypted numbers. :\n",
    "(pow(g_x, 2, n) * pow(g_y, 8, n)) % n == pow(g, 7944, n)\n",
    "(pow(g_x, 5, n) * pow(g_y, 3, n)) % n == pow(g, 4764, n)\n",
    "\n",
    "def verifier(statement1, statement2, witnessx, witnessy):\n",
    "    # x!^* = g^* (mod p)\n",
    "    temp1x = pow(witnessx, 2, n)\n",
    "    temp1y = pow(witnessy, 8, n)\n",
    "    temp2x = pow(witnessx, 5, n)\n",
    "    temp2y = pow(witnessy, 3, n)\n",
    "    \n",
    "    if temp1x * temp1y %n == pow(g,statement1,n) and temp2x * temp2y %n == pow(g, statement2, n):\n",
    "        return True\n",
    "    return False\n",
    "\n",
    "verifier(7944, 4764, pow(g, x, n), pow(g, y, n))"
   ]
  },
  {
   "cell_type": "markdown",
   "metadata": {},
   "source": [
    "## The field of rational numbers ℚ is homomorphic to the field ℤp\n",
    "\n",
    "<font color='red'>**Compute 53/192 + 61/511 (mod 1033) in python. It is not required to implement euclid's algorithm.**</font>"
   ]
  },
  {
   "cell_type": "code",
   "execution_count": 23,
   "metadata": {},
   "outputs": [
    {
     "name": "stdout",
     "output_type": "stream",
     "text": [
      "a_1: φ (a) is 619\n",
      "a_2: φ (a') is 928\n",
      "LHS: φ (a) + φ (a') is  514\n",
      "new num 38795\n",
      "new den 98112\n",
      "new res 0.39541544357469016\n",
      "RHS: φ (a + a')  is 514\n"
     ]
    },
    {
     "data": {
      "text/plain": [
       "True"
      ]
     },
     "execution_count": 23,
     "metadata": {},
     "output_type": "execute_result"
    }
   ],
   "source": [
    "n = 1033\n",
    "g = 5\n",
    "# Define the fractions and modulus\n",
    "numerator1 = 53\n",
    "denominator1 = 192\n",
    "numerator2 = 61\n",
    "denominator2 = 511\n",
    "\n",
    "\n",
    "# Group A is homomorphic to group B if there exists a transformation φ\n",
    "# where φ maps elements from A to B, and for all a, a’ in A, φ(a □ a’) = φ(a) △ φ(a’).\n",
    "\n",
    "# The transformation φ (x) is φ(x) = numerator * denominator ** -1 % n\n",
    "\n",
    "# ( ℚ ,+ , *)\n",
    "# Group (or Ring) A is rational number ℚ  under: addition.\n",
    "# ( ℤ / ℤp, ,+ , *)\n",
    "# Group (or Ring) B is ℤ / ℤp  under: addition modulo p.\n",
    "\n",
    "\n",
    "int1 = numerator1\n",
    "Z1 = pow(denominator1,-1,n)\n",
    "a_1 = int1 * Z1 % n\n",
    "\n",
    "print(\"a_1: φ (a) is {}\".format(a_1))\n",
    "\n",
    "int2 = numerator2\n",
    "Z2 = pow(denominator2,-1,n)\n",
    "a_2 = int2 * Z2 % n\n",
    "\n",
    "print(\"a_2: φ (a') is {}\".format(a_2))\n",
    "\n",
    "# print(pow(g, a, n) * pow(g, b, n) == pow(g, a + b, n))\n",
    "\n",
    "LHS = (int1*Z1 +  int2*Z2) % 1033\n",
    "print(\"LHS: φ (a) + φ (a') is  {}\".format(LHS))\n",
    "\n",
    "print(\"new num {}\".format(38795))\n",
    "print(\"new den {}\".format(98112))\n",
    "print(\"new res {}\".format(38795/98112))\n",
    "\n",
    "n_int = 38795\n",
    "n_z = pow(98112,-1,n)\n",
    "RHS = n_int * n_z % n\n",
    "print(\"RHS: φ (a + a')  is {}\".format(RHS))\n",
    "\n",
    "\n",
    "# LHS = (numerator1/denominator1) + (numerator2/denominator2)\n",
    "# RHS = ( (numerator1 % n) * (denominator1 ** (-1) % n) +  (numerator2 % n) * (denominator2 ** (-1) % n)  ) % n\n",
    "\n",
    "\n",
    "# print(\"LHS is {}\".format(LHS))\n",
    "# print(\"RHS is {}\".format(RHS))\n",
    "\n",
    "\n",
    "# print(\"φ (a + a')  is {}\".format( ( numerator1/denominator1 + numerator2/denominator2 ) % n ))\n",
    "# print(\"φ (a) + φ (a') is {}\".format( ( (numerator1 % n) * (denominator1 ** (-1) % n) +  (numerator2 % n) * (denominator2 ** (-1) % n)  ) % n ) )\n",
    "\n",
    "\n",
    "(LHS == RHS)\n",
    "# (( numerator1/denominator1 + numerator2/denominator2 ) % n) == ( (numerator1 % n) * pow(denominator1, -1, n) +  (numerator2 % n) * pow(denominator2, -1, n)   % n )"
   ]
  },
  {
   "cell_type": "markdown",
   "metadata": {},
   "source": []
  }
 ],
 "metadata": {
  "kernelspec": {
   "display_name": "Python 3",
   "language": "python",
   "name": "python3"
  },
  "language_info": {
   "codemirror_mode": {
    "name": "ipython",
    "version": 3
   },
   "file_extension": ".py",
   "mimetype": "text/x-python",
   "name": "python",
   "nbconvert_exporter": "python",
   "pygments_lexer": "ipython3",
   "version": "3.10.4"
  },
  "orig_nbformat": 4
 },
 "nbformat": 4,
 "nbformat_minor": 2
}
